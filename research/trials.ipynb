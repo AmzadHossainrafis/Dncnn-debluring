{
 "cells": [
  {
   "cell_type": "code",
   "execution_count": 1,
   "metadata": {},
   "outputs": [],
   "source": [
    "from dncnn.components import *\n",
    "from dncnn.utils.logger import logging\n",
    "from dncnn.utils.exception import *\n",
    "from dncnn.utils.common import read_config"
   ]
  },
  {
   "cell_type": "code",
   "execution_count": 3,
   "metadata": {},
   "outputs": [
    {
     "data": {
      "text/plain": [
       "{'t1': {'p': 1, 'image_size': [256, 256]},\n",
       " 't2': {'p': 1, 'image_size': [128, 128], 'blur_limit': [3, 7]}}"
      ]
     },
     "execution_count": 3,
     "metadata": {},
     "output_type": "execute_result"
    }
   ],
   "source": [
    "config = read_config(r'C:\\Users\\Amzad\\Desktop\\Dncnn\\config\\config.yaml')\n",
    "train_config = config['transform']\n",
    "train_config"
   ]
  },
  {
   "cell_type": "code",
   "execution_count": null,
   "metadata": {},
   "outputs": [],
   "source": [
    "#test exception\n",
    "try:\n",
    "    a=1/0\n",
    "except Exception as e:\n",
    "    logging.info('custom exception')\n",
    "    raise CustomException(e,sys)\n",
    "\n"
   ]
  },
  {
   "cell_type": "code",
   "execution_count": 4,
   "metadata": {},
   "outputs": [],
   "source": [
    "from PIL import Image \n",
    "import numpy as np\n",
    "import matplotlib as plt\n",
    "\n",
    "image_1 =[ r\"C:\\Users\\Amzad\\Downloads\\1752.jpg\",\n",
    " r\"C:\\Users\\Amzad\\Downloads\\2185.jpg\",\n",
    "r\"C:\\Users\\Amzad\\Downloads\\1720.jpg\" ]\n",
    "\n",
    "\n",
    "for i in image_1: \n",
    "    #read image \n",
    "    img = Image.open(i) \n",
    "    #resize image \n",
    "    img = img.resize((512,512))\n",
    "    #convert image to array \n",
    "    img.save(i)\n",
    "    \n",
    "\n",
    "    \n",
    "\n",
    "\n",
    "\n"
   ]
  }
 ],
 "metadata": {
  "kernelspec": {
   "display_name": "myenv",
   "language": "python",
   "name": "python3"
  },
  "language_info": {
   "codemirror_mode": {
    "name": "ipython",
    "version": 3
   },
   "file_extension": ".py",
   "mimetype": "text/x-python",
   "name": "python",
   "nbconvert_exporter": "python",
   "pygments_lexer": "ipython3",
   "version": "3.10.13"
  }
 },
 "nbformat": 4,
 "nbformat_minor": 2
}
